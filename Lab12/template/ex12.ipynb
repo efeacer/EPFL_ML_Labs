{
 "cells": [
  {
   "cell_type": "code",
   "execution_count": 1,
   "metadata": {},
   "outputs": [],
   "source": [
    "# Useful starting lines\n",
    "%matplotlib inline\n",
    "import numpy as np\n",
    "import matplotlib.pyplot as plt\n",
    "import torch\n",
    "import torch.nn as nn\n",
    "from torch.autograd import Variable\n",
    "%load_ext autoreload\n",
    "%autoreload 2"
   ]
  },
  {
   "cell_type": "code",
   "execution_count": 2,
   "metadata": {},
   "outputs": [],
   "source": [
    "# Defining a toy dataset\n",
    "x_train = np.array([[3.3], [4.4], [5.5], [6.71], [6.93], [4.168], \n",
    "                    [9.779], [6.182], [7.59], [2.167], [7.042], \n",
    "                    [10.791], [5.313], [7.997], [3.1]], dtype=np.float32)\n",
    "\n",
    "y_train = np.array([[1.7], [2.76], [2.09], [3.19], [1.694], [1.573], \n",
    "                    [3.366], [2.596], [2.53], [1.221], [2.827], \n",
    "                    [3.465], [1.65], [2.904], [1.3]], dtype=np.float32)"
   ]
  },
  {
   "cell_type": "markdown",
   "metadata": {},
   "source": [
    "## Linear regression"
   ]
  },
  {
   "cell_type": "code",
   "execution_count": 3,
   "metadata": {},
   "outputs": [
    {
     "name": "stdout",
     "output_type": "stream",
     "text": [
      "Testing model: an input of [0. 1. 2.] gives a prediction:\n",
      " tensor([0., 0., 0.], grad_fn=<AddBackward0>)\n"
     ]
    }
   ],
   "source": [
    "class MyLinearRegression:\n",
    "    def __init__(self):\n",
    "        # Define the parameters of the model (weights and biases)\n",
    "        self.W = Variable(torch.Tensor([0]), requires_grad=True) # weight\n",
    "        self.B = Variable(torch.Tensor([0]), requires_grad=True) # bias\n",
    "    \n",
    "    def forward(self, x):\n",
    "        # implement forward computation - compute predictions based on the inputs\n",
    "        pred = x * self.W + self.B\n",
    "        return pred\n",
    "    \n",
    "    def parameters(self):\n",
    "        # this function should return a list of parameters of the model\n",
    "        return [self.W, self.B]\n",
    "    \n",
    "    def __call__(self, x):\n",
    "        # Convenience function\n",
    "        return self.forward(x)\n",
    "    \n",
    "def mselossfunc(pred, y):\n",
    "    # implement the MSE loss function\n",
    "    return (y - pred).pow(2).mean()\n",
    "\n",
    "model = MyLinearRegression()\n",
    "numpy_inputs = np.asarray([0.0, 1.0, 2.0], dtype=np.float32)\n",
    "torch_inputs = Variable(torch.from_numpy(numpy_inputs))\n",
    "torch_outputs = model(torch_inputs)\n",
    "print(\"Testing model: an input of %s gives a prediction:\\n %s\" % (numpy_inputs, torch_outputs))"
   ]
  },
  {
   "cell_type": "code",
   "execution_count": 4,
   "metadata": {},
   "outputs": [],
   "source": [
    "def train(features, labels, model, lossfunc, optimizer, num_epoch):\n",
    "    for epoch in range(num_epoch):\n",
    "        # Step 1 - create torch variables corresponding to features and labels\n",
    "        features_torch = Variable(torch.from_numpy(features))\n",
    "        labels_torch = Variable(torch.from_numpy(labels))\n",
    "        # Step 2 - compute model predictions and loss\n",
    "        pred = model(features_torch)\n",
    "        loss = lossfunc(pred, labels_torch)\n",
    "        # Step 3 - do a backward pass and a gradient update step\n",
    "        optimizer.zero_grad()\n",
    "        loss.backward()\n",
    "        optimizer.step()\n",
    "        if epoch % 10 == 0:\n",
    "            print ('Epoch [%d/%d], Loss: %.4f' \n",
    "                      %(epoch+1, num_epoch, loss.item()))\n",
    "        \n",
    "def visualize(x_train, y_train, model):\n",
    "    # A convenience function for visualizing predictions given by the model\n",
    "    predicted = model(Variable(torch.from_numpy(x_train))).data.numpy()\n",
    "    order = np.argsort(x_train, axis=0)\n",
    "    plt.plot(x_train[order].flatten(), y_train[order].flatten(), 'ro', label='Original data')\n",
    "    plt.plot(x_train[order].flatten(), predicted[order].flatten(), label='Fitted line')\n",
    "    plt.legend()\n",
    "    plt.show()"
   ]
  },
  {
   "cell_type": "code",
   "execution_count": 5,
   "metadata": {},
   "outputs": [
    {
     "name": "stdout",
     "output_type": "stream",
     "text": [
      "Epoch [1/50], Loss: 5.9467\n",
      "Epoch [11/50], Loss: 1.1699\n",
      "Epoch [21/50], Loss: 0.3857\n",
      "Epoch [31/50], Loss: 0.2567\n",
      "Epoch [41/50], Loss: 0.2352\n"
     ]
    },
    {
     "data": {
      "image/png": "[encoded data removed]",
      "text/plain": [
       "<Figure size 432x288 with 1 Axes>"
      ]
     },
     "metadata": {},
     "output_type": "display_data"
    }
   ],
   "source": [
    "# Training and visualizing predictions made by linear regression model\n",
    "optimizer = torch.optim.SGD(model.parameters(), lr=1e-3)\n",
    "\n",
    "train(features=x_train,\n",
    "      labels=y_train,\n",
    "      model=model,\n",
    "      lossfunc=mselossfunc, \n",
    "      optimizer=optimizer,\n",
    "      num_epoch=50)\n",
    "visualize(x_train, y_train, model)"
   ]
  },
  {
   "cell_type": "markdown",
   "metadata": {},
   "source": [
    "## Linear Regression (using nn package)"
   ]
  },
  {
   "cell_type": "code",
   "execution_count": 6,
   "metadata": {},
   "outputs": [
    {
     "name": "stdout",
     "output_type": "stream",
     "text": [
      "Epoch [1/100], Loss: 3.2831\n",
      "Epoch [11/100], Loss: 0.7360\n",
      "Epoch [21/100], Loss: 0.3177\n",
      "Epoch [31/100], Loss: 0.2488\n",
      "Epoch [41/100], Loss: 0.2372\n",
      "Epoch [51/100], Loss: 0.2350\n",
      "Epoch [61/100], Loss: 0.2344\n",
      "Epoch [71/100], Loss: 0.2340\n",
      "Epoch [81/100], Loss: 0.2336\n",
      "Epoch [91/100], Loss: 0.2333\n"
     ]
    },
    {
     "data": {
      "image/png": "[encoded data removed]",
      "text/plain": [
       "<Figure size 432x288 with 1 Axes>"
      ]
     },
     "metadata": {},
     "output_type": "display_data"
    }
   ],
   "source": [
    "class NNLinearRegression(nn.Module):\n",
    "    def __init__(self):\n",
    "        super(NNLinearRegression, self).__init__()\n",
    "        # Define the parameters of the model (linear nn layer)\n",
    "        self.linear = torch.nn.Linear(1, 1)\n",
    "    \n",
    "    def forward(self, x):\n",
    "        # implement forward computation\n",
    "        pred = self.linear(x)\n",
    "        return pred\n",
    "    \n",
    "# Training and visualizing predictions made by linear regression model (nn package)\n",
    "# use loss function from nn package\n",
    "lossfunc = torch.nn.MSELoss()\n",
    "\n",
    "model = NNLinearRegression()\n",
    "\n",
    "optimizer = torch.optim.SGD(model.parameters(), lr=1e-3)\n",
    "\n",
    "train(features=x_train,\n",
    "      labels=y_train,\n",
    "      model=model,\n",
    "      lossfunc=lossfunc,\n",
    "      optimizer=optimizer,\n",
    "      num_epoch=100)\n",
    "visualize(x_train, y_train, model)"
   ]
  },
  {
   "cell_type": "markdown",
   "metadata": {},
   "source": [
    "## MLP"
   ]
  },
  {
   "cell_type": "code",
   "execution_count": 7,
   "metadata": {},
   "outputs": [
    {
     "name": "stdout",
     "output_type": "stream",
     "text": [
      "Epoch [1/300], Loss: 3.9063\n",
      "Epoch [11/300], Loss: 0.5249\n",
      "Epoch [21/300], Loss: 0.6741\n",
      "Epoch [31/300], Loss: 0.4400\n",
      "Epoch [41/300], Loss: 0.4122\n",
      "Epoch [51/300], Loss: 0.3551\n",
      "Epoch [61/300], Loss: 0.2929\n",
      "Epoch [71/300], Loss: 0.2364\n",
      "Epoch [81/300], Loss: 0.2009\n",
      "Epoch [91/300], Loss: 0.1835\n",
      "Epoch [101/300], Loss: 0.1746\n",
      "Epoch [111/300], Loss: 0.1701\n",
      "Epoch [121/300], Loss: 0.1687\n",
      "Epoch [131/300], Loss: 0.1676\n",
      "Epoch [141/300], Loss: 0.1670\n",
      "Epoch [151/300], Loss: 0.1666\n",
      "Epoch [161/300], Loss: 0.1664\n",
      "Epoch [171/300], Loss: 0.1662\n",
      "Epoch [181/300], Loss: 0.1660\n",
      "Epoch [191/300], Loss: 0.1659\n",
      "Epoch [201/300], Loss: 0.1658\n",
      "Epoch [211/300], Loss: 0.1657\n",
      "Epoch [221/300], Loss: 0.1657\n",
      "Epoch [231/300], Loss: 0.1656\n",
      "Epoch [241/300], Loss: 0.1656\n",
      "Epoch [251/300], Loss: 0.1656\n",
      "Epoch [261/300], Loss: 0.1655\n",
      "Epoch [271/300], Loss: 0.1655\n",
      "Epoch [281/300], Loss: 0.1654\n",
      "Epoch [291/300], Loss: 0.1654\n"
     ]
    },
    {
     "data": {
      "image/png": "[encoded data removed]",
      "text/plain": [
       "<Figure size 432x288 with 1 Axes>"
      ]
     },
     "metadata": {},
     "output_type": "display_data"
    }
   ],
   "source": [
    "class MLP(nn.Module):\n",
    "    def __init__(self, hidden_size):\n",
    "        super(MLP, self).__init__()\n",
    "        # Define parameters / layers of a multi-layered perceptron with one hidden layer\n",
    "        self.linear1 = nn.Linear(1, hidden_size)\n",
    "        self.nonlinear1 = nn.Sigmoid()\n",
    "        self.linear2 = nn.Linear(hidden_size, 1)\n",
    "    \n",
    "    def forward(self, x):\n",
    "        Z = self.linear1(x)\n",
    "        phi = self.nonlinear1(Z) \n",
    "        pred = self.linear2(phi)\n",
    "        return pred\n",
    "    \n",
    "hidden_size = 2\n",
    "learning_rate = 1e-1\n",
    "\n",
    "model = MLP(hidden_size=hidden_size)\n",
    "\n",
    "optimizer = torch.optim.Adam(model.parameters(), lr=learning_rate)\n",
    "\n",
    "train(features=x_train,\n",
    "      labels=y_train,\n",
    "      model=model,\n",
    "      lossfunc=lossfunc,\n",
    "      optimizer=optimizer,\n",
    "      num_epoch=300)\n",
    "visualize(x_train, y_train, model)"
   ]
  }
 ],
 "metadata": {
  "kernelspec": {
   "display_name": "Python 3",
   "language": "python",
   "name": "python3"
  },
  "language_info": {
   "codemirror_mode": {
    "name": "ipython",
    "version": 3
   },
   "file_extension": ".py",
   "mimetype": "text/x-python",
   "name": "python",
   "nbconvert_exporter": "python",
   "pygments_lexer": "ipython3",
   "version": "3.6.5"
  }
 },
 "nbformat": 4,
 "nbformat_minor": 2
}
